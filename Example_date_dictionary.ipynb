{
 "cells": [
  {
   "cell_type": "code",
   "execution_count": null,
   "id": "c5a77da8-6bd4-4257-b34a-a1c46b091655",
   "metadata": {},
   "outputs": [],
   "source": [
    "import pandas as pd\n",
    "import numpy as np"
   ]
  },
  {
   "cell_type": "code",
   "execution_count": 60,
   "id": "9df7c274-fefb-47e3-bb2f-e09764f5bafa",
   "metadata": {},
   "outputs": [],
   "source": [
    "dict = {\n",
    "    2017: {\"nan\": \"07/15/2017\",\n",
    "           \"July, 2017\": \"07/15/2017\"},\n",
    "    2018: {\"nan\": \"07/01/2018\"}\n",
    "       }"
   ]
  },
  {
   "cell_type": "code",
   "execution_count": 65,
   "id": "253d6f74-2111-4860-b25d-2c4f2a4f5785",
   "metadata": {},
   "outputs": [
    {
     "data": {
      "text/plain": [
       "'07/01/2018'"
      ]
     },
     "execution_count": 65,
     "metadata": {},
     "output_type": "execute_result"
    }
   ],
   "source": [
    "dict[2018][\"nan\"]"
   ]
  },
  {
   "cell_type": "code",
   "execution_count": 55,
   "id": "af006689-4766-49c6-b5c6-cd20ff5fb0d3",
   "metadata": {},
   "outputs": [],
   "source": [
    "df = pd.DataFrame({'Date': [\"06/01/2016\", \"nan\", \"July, 2017\", \"nan\", \"06/05/2019\"],\n",
    "                   'Year': [2016, 2017, 2017, 2018, 2019],\n",
    "                   'Value': [10, 5,  15, 10, 20]})"
   ]
  },
  {
   "cell_type": "code",
   "execution_count": 56,
   "id": "90336579-cf2e-45ef-9f47-20d89c532bb9",
   "metadata": {},
   "outputs": [
    {
     "data": {
      "text/html": [
       "<div>\n",
       "<style scoped>\n",
       "    .dataframe tbody tr th:only-of-type {\n",
       "        vertical-align: middle;\n",
       "    }\n",
       "\n",
       "    .dataframe tbody tr th {\n",
       "        vertical-align: top;\n",
       "    }\n",
       "\n",
       "    .dataframe thead th {\n",
       "        text-align: right;\n",
       "    }\n",
       "</style>\n",
       "<table border=\"1\" class=\"dataframe\">\n",
       "  <thead>\n",
       "    <tr style=\"text-align: right;\">\n",
       "      <th></th>\n",
       "      <th>Date</th>\n",
       "      <th>Year</th>\n",
       "      <th>Value</th>\n",
       "    </tr>\n",
       "  </thead>\n",
       "  <tbody>\n",
       "    <tr>\n",
       "      <th>0</th>\n",
       "      <td>06/01/2016</td>\n",
       "      <td>2016</td>\n",
       "      <td>10</td>\n",
       "    </tr>\n",
       "    <tr>\n",
       "      <th>1</th>\n",
       "      <td>nan</td>\n",
       "      <td>2017</td>\n",
       "      <td>5</td>\n",
       "    </tr>\n",
       "    <tr>\n",
       "      <th>2</th>\n",
       "      <td>July, 2017</td>\n",
       "      <td>2017</td>\n",
       "      <td>15</td>\n",
       "    </tr>\n",
       "    <tr>\n",
       "      <th>3</th>\n",
       "      <td>nan</td>\n",
       "      <td>2018</td>\n",
       "      <td>10</td>\n",
       "    </tr>\n",
       "    <tr>\n",
       "      <th>4</th>\n",
       "      <td>06/05/2019</td>\n",
       "      <td>2019</td>\n",
       "      <td>20</td>\n",
       "    </tr>\n",
       "  </tbody>\n",
       "</table>\n",
       "</div>"
      ],
      "text/plain": [
       "         Date  Year  Value\n",
       "0  06/01/2016  2016     10\n",
       "1         nan  2017      5\n",
       "2  July, 2017  2017     15\n",
       "3         nan  2018     10\n",
       "4  06/05/2019  2019     20"
      ]
     },
     "execution_count": 56,
     "metadata": {},
     "output_type": "execute_result"
    }
   ],
   "source": [
    "df"
   ]
  },
  {
   "cell_type": "code",
   "execution_count": 66,
   "id": "95505b30-3a91-4d8b-9abb-360835017a80",
   "metadata": {},
   "outputs": [],
   "source": [
    "df['Date_cln'] = df.apply(lambda row: dict[row.Year][row.Date] if row.Year in dict.keys() else row.Date, axis=1)"
   ]
  },
  {
   "cell_type": "code",
   "execution_count": 67,
   "id": "cd3a0828-6b73-4ba1-be78-03b1c2d4a20d",
   "metadata": {},
   "outputs": [
    {
     "data": {
      "text/html": [
       "<div>\n",
       "<style scoped>\n",
       "    .dataframe tbody tr th:only-of-type {\n",
       "        vertical-align: middle;\n",
       "    }\n",
       "\n",
       "    .dataframe tbody tr th {\n",
       "        vertical-align: top;\n",
       "    }\n",
       "\n",
       "    .dataframe thead th {\n",
       "        text-align: right;\n",
       "    }\n",
       "</style>\n",
       "<table border=\"1\" class=\"dataframe\">\n",
       "  <thead>\n",
       "    <tr style=\"text-align: right;\">\n",
       "      <th></th>\n",
       "      <th>Date</th>\n",
       "      <th>Year</th>\n",
       "      <th>Value</th>\n",
       "      <th>Date_cln</th>\n",
       "    </tr>\n",
       "  </thead>\n",
       "  <tbody>\n",
       "    <tr>\n",
       "      <th>0</th>\n",
       "      <td>06/01/2016</td>\n",
       "      <td>2016</td>\n",
       "      <td>10</td>\n",
       "      <td>06/01/2016</td>\n",
       "    </tr>\n",
       "    <tr>\n",
       "      <th>1</th>\n",
       "      <td>nan</td>\n",
       "      <td>2017</td>\n",
       "      <td>5</td>\n",
       "      <td>07/15/2017</td>\n",
       "    </tr>\n",
       "    <tr>\n",
       "      <th>2</th>\n",
       "      <td>July, 2017</td>\n",
       "      <td>2017</td>\n",
       "      <td>15</td>\n",
       "      <td>07/15/2017</td>\n",
       "    </tr>\n",
       "    <tr>\n",
       "      <th>3</th>\n",
       "      <td>nan</td>\n",
       "      <td>2018</td>\n",
       "      <td>10</td>\n",
       "      <td>07/01/2018</td>\n",
       "    </tr>\n",
       "    <tr>\n",
       "      <th>4</th>\n",
       "      <td>06/05/2019</td>\n",
       "      <td>2019</td>\n",
       "      <td>20</td>\n",
       "      <td>06/05/2019</td>\n",
       "    </tr>\n",
       "  </tbody>\n",
       "</table>\n",
       "</div>"
      ],
      "text/plain": [
       "         Date  Year  Value    Date_cln\n",
       "0  06/01/2016  2016     10  06/01/2016\n",
       "1         nan  2017      5  07/15/2017\n",
       "2  July, 2017  2017     15  07/15/2017\n",
       "3         nan  2018     10  07/01/2018\n",
       "4  06/05/2019  2019     20  06/05/2019"
      ]
     },
     "execution_count": 67,
     "metadata": {},
     "output_type": "execute_result"
    }
   ],
   "source": [
    "df"
   ]
  },
  {
   "cell_type": "code",
   "execution_count": 69,
   "id": "f4f436a5-696f-4eda-873f-fb3e039cf210",
   "metadata": {},
   "outputs": [],
   "source": [
    "df['Date_cln'] = pd.to_datetime(df['Date_cln'])"
   ]
  },
  {
   "cell_type": "code",
   "execution_count": 71,
   "id": "39c6494c-a798-4232-af0e-854dd091c470",
   "metadata": {},
   "outputs": [
    {
     "data": {
      "text/plain": [
       "Date                object\n",
       "Year                 int64\n",
       "Value                int64\n",
       "Date_cln    datetime64[ns]\n",
       "dtype: object"
      ]
     },
     "execution_count": 71,
     "metadata": {},
     "output_type": "execute_result"
    }
   ],
   "source": [
    "df.dtypes"
   ]
  },
  {
   "cell_type": "code",
   "execution_count": null,
   "id": "321848bd-d7fe-469b-b804-4e8af5e60a82",
   "metadata": {},
   "outputs": [],
   "source": []
  }
 ],
 "metadata": {
  "kernelspec": {
   "display_name": "Python 3 (ipykernel)",
   "language": "python",
   "name": "python3"
  },
  "language_info": {
   "codemirror_mode": {
    "name": "ipython",
    "version": 3
   },
   "file_extension": ".py",
   "mimetype": "text/x-python",
   "name": "python",
   "nbconvert_exporter": "python",
   "pygments_lexer": "ipython3",
   "version": "3.9.7"
  }
 },
 "nbformat": 4,
 "nbformat_minor": 5
}
